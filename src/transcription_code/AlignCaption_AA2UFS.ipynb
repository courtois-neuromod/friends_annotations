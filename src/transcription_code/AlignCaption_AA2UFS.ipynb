/annex/objects/MD5E-s155038--17a4489a0e1bb7d7c922e95d74ea81f8
