{
 "cells": [
  {
   "cell_type": "code",
   "execution_count": 2,
   "id": "62b83ced-90b3-4748-9996-fd9a3ced95a2",
   "metadata": {},
   "outputs": [],
   "source": [
    "%matplotlib inline"
   ]
  },
  {
   "cell_type": "code",
   "execution_count": 3,
   "id": "e253f6c5-6285-4076-8b6d-8e5d4ef72479",
   "metadata": {},
   "outputs": [],
   "source": [
    "import json, glob, os\n",
    "from pathlib import Path\n",
    "import string"
   ]
  },
  {
   "cell_type": "markdown",
   "id": "88518144-7d9d-4b14-b20f-81c2aba13fef",
   "metadata": {},
   "source": [
    "## Remove Theme Song words from Assembly AI speech-to-text transcripts\n",
    "\n",
    "This notebook was used to extract words from the Friends' them song, which were picked up somewhat inconsistently by the Assembly AI speech-to-text universal model. The goal was to produce cleaner transcripts and to improve the alignment with the fan-made transcripts to improve the assignment of speaker tags to the AI transcript."
   ]
  },
  {
   "cell_type": "code",
   "execution_count": 224,
   "id": "68e49f1f-f3ba-40ba-82cc-20ff480507f0",
   "metadata": {},
   "outputs": [],
   "source": [
    "\"\"\"\n",
    "Some support functions\n",
    "\"\"\"\n",
    "\n",
    "def prep_aa(fpath):\n",
    "    \"\"\".\"\"\"\n",
    "    with open(fpath, 'r') as file:\n",
    "        aa_transcript = json.load(file)\n",
    "\n",
    "    return aa_transcript\n",
    "\n",
    "def get_paths(s, e, ext=\"\"):\n",
    "    \"\"\"\n",
    "    Returns paths to all .json files that match\n",
    "    an episode number, just in case theme song is \n",
    "    not in first half for some odd reason\n",
    "    \"\"\"\n",
    "    return sorted(\n",
    "        glob.glob(\n",
    "            \"/home/mstlaure/Documents/Marie\"\n",
    "            \"/neuromod/algonauts/dev_scripts_features_tseries_ridge\"\n",
    "            \"/speech2text_friends_data/json_aa_wUtter/edited\"\n",
    "            f\"/s{s}/friends_s0{s}e{e}*_aaUt{ext}.json\"               \n",
    "        )\n",
    "    )\n",
    "\n",
    "\n",
    "#key_phrase = \"one told you\"\n",
    "key_phrase = \"be this way\"\n",
    "#key_phrase = \"there for you\"\n",
    "\n",
    "def show_transcripts(s, e, verbose=True, ext=\"\"):\n",
    "    \"\"\"\n",
    "    Flags transcripts that contain theme wong words,\n",
    "    and return their content\n",
    "\n",
    "    Prints a version split into halfs (before and \n",
    "    after theme song) to ease manual edits\n",
    "    \"\"\"\n",
    "    jfiles = []\n",
    "    for p in get_paths(s, e, ext):\n",
    "        jfile = prep_aa(p)\n",
    "        tr_text = jfile['transcript']\n",
    "        if key_phrase in tr_text.lower():\n",
    "            print(os.path.basename(p))\n",
    "            seg_sizes = []\n",
    "            for seg in tr_text.split(key_phrase):\n",
    "                seg_sizes.append(len(seg))\n",
    "                if verbose:\n",
    "                    print(f\"Segment length in chars: {len(seg)}\")\n",
    "                    print(f\"{seg} \\n\")\n",
    "            assert len(seg_sizes) ==2\n",
    "            jfiles.append((p, jfile, seg_sizes))\n",
    "    return jfiles\n"
   ]
  },
  {
   "cell_type": "markdown",
   "id": "28c2a166-1970-45ba-84f5-963b7c2508c3",
   "metadata": {},
   "source": [
    "#### Keep track of edited episodes\n",
    "\n",
    "s7 : 01, 02, 03, 04, 05, 06, 07, 08, 09, 10, 11, 12, 13, 14, 15, 16, 17, 18, 19, 20, 21, 22, 23 (complete)\n",
    "\n",
    "s6 : 01, 02, 03, 04, 05, 06, 07, 08, 09, 10, 11, 12, 13, 14, 15a, (15c has no theme song), (no 16), 17, 18, 19, 20, 21, 22, 23, 24 (complete)\n",
    "\n",
    "s5 : 01, 02, (03 has theme song removed), 04, 05, 06, 07, 08, 09, 10, 11, 12, 13, 14, 15, 16, 17, 18, 19, 20, 21, 22, 23 (complete)\n",
    "\n",
    "s4: only 23d has the theme song at the end"
   ]
  },
  {
   "cell_type": "code",
   "execution_count": 235,
   "id": "337a063d-68e4-4c2f-b54e-8b11e7cf88c1",
   "metadata": {},
   "outputs": [
    {
     "name": "stdout",
     "output_type": "stream",
     "text": [
      "friends_s04e23d_aaUt.json\n",
      "Segment length in chars: 4954\n",
      "Well, I've never done that with you before. Nope. So how are you? You okay? Yep. Yep. You? Oh, yes, yes. Uh huh. You. We did you. Well, I better get going. Oh, yeah, absolutely. Could you not look? I don't want to look. Hello? Hey. Where the hell have you been? Hey. I spent the night out. I met this cute bridesmaid. She is so. I. I don't want to hear about her. Aw, Pheeves, you know you're still my number one girl. No, no. We have an emergency. Okay. Rachel's coming to London. Oh, great. Well, it's not great. No, she's coming to tell Ross that she loves him. But he loves Emily. I know that. You have to stop her. She's gonna ruin the wedding. Okay. All right. So. Okay, hold on, hold on. Rachel Cummings, do something. Okay, so then I've done my part. Okay? It's your responsibility now. The burden is off me, right? Right. So tell me about this girl. And so then I realized all the stuff that I had been doing. Proposing to Joshua, lying to Ross about why I couldn't come to the wedding was all just a way of. Oh, oh, oh, oh. I'm sorry, can I interrupt here? I just want to say that you are a horrible, horrible person. Pardon me? You say you love this man and yet you're about to ruin the happiest day of his life. I'm afraid I have to agree with your friend. This is a terrible, terrible plan. But he has to know how I feel. But why? He loves this. This Emily person. No good can come of this. Well, I think you're wrong. Oh, no. Well, he doesn't really love her. I mean, it's just a rebound thing from me. You'll see. Fortunately, I won't. By the. It seems to be perfectly clear that you were on a break. Do something. Something. Hey. Hey. Have you seen Monica? I'm not seeing Monica. Bu. What? What? Look, we. We gotta find her. Phoebe just called. Rachel's coming to tell Ross she loves him. Oh, my God. I know. That's why we gotta find Monica. Do you know where she is? No. Okay, what's with the third degree? Why don't you shine a light in my eyes? Oh, my God. It's like a fairyland. I know. It's horrible, isn't it? Well, I love it. I only hope my wedding looks this good. I just hope you can let some of them go by. Psst. Rick. All right, we really need to start looking out for Rachel. I'll cover the front door. You watch that big hole at the Back of the building. And I got Chandler covering Ross. Why would I care where Chandler is? You know? You know, sometimes I don't even like Chandler. Okay, I do. I do. I do. Oh, yeah, you're right. It's the second one. Right? Hey, Joey. Hey, Felicity. I thought about you all day. Yeah? Talk New York to me again. Forget about it. How you doing? If there's nothing to discuss, we're not paying for your wine cellar. You have to meet me in the middle here. Hey, you keep pushing me on this, my foot's gonna meet the middle of your ass. What's going on? Nothing. Nothing. Everything's under control. You want a piece of me, sir? Is that what you're saying? Want a piece of me? Okay, that's it. Parents. Parents. Back away, all right? This is our wedding day. From now on, everyone gets along. And if I hear one more word, no grandchildren. That's right. Okay, okay. Sorry, old boy. Sorry. Sorry. I could kill you with my thumb, you know. What was all that about? It was this disagreement or. My God, You. You look beautiful. Oh. Oh. You're not meant to see me before the wedding's bad luck. You know what? I think we've had all the bad luck. We're going to it. Thank God. Rachel, you're here. I can't believe it. What happened? Why are you here? Well, I just came. I just needed to tell you congratulations. It's. Hello, Waltham Interiors. Mrs. Waltham, hi, it's Phoebe again. Why? Yeah, can I please, please, please talk to one of the best men? This is gonna be the last time. I promise. Joey, there's a girl on the phone for you. Oh, great. Hello? Joey, it's Phoebe. Did you stop Rachel? No, but it's okay. She just came in and gave him a hug. That's it? Nothing got ruined? No. Oh, that's so great. Oh, so, what's going on now? I'm walking down the aisle. Still walking. I'm about to pass the bridesmaid I hooked up with last night. Hey, I just told her, hey. Okay, now I'm at the front with Ross. It's Phoebe. He looks pretty mad. I better go. No, wait, wait, wait. Oh, please hold. Hold it up so I can listen. What we did last night was stupid. Totally crazy stupid. What were we thinking? I'm coming over tonight though, right? Oh, yeah, Definitely. Friends, family are gathered to celebrate here today the joyous union of Ross and Emily. Be the happiness we share with them today. Be with them always. Now, Emily, repeat after me. I, Emily. I, Emily. Take thee, Ross. Take thee, Ross. As my lawfully wedded husband, in sickness and in health, till death parts us. As my lawfully wedded husband, in sickness and in health, until death parts us. Our Ross. Repeat after me. Ay. Ross. I, Ross, Take thee, Emily. Take thee, Rachel. Emily. Emily. Shall I go on? No one told you life was gonna  \n",
      "\n",
      "Segment length in chars: 558\n",
      ". Your job's a joke. You broke your love. Life's the old way. It's like you're always stuck in second gear. When it hasn't been your day, week, month. I'll be there for you. I'll be there for you. Mother. Mother. Peter. Peter. Take one. Oh, the band's ready. Well, we gotta do what the band says. I don't care about the stupid band. Well, it's getting late. Here we go. Actually, you guys would mind staying here with me for a while. You know, we gotta get up early and catch that plane to New York. Yeah, it's a very large plane. Why? What's the matter? Sa. \n",
      "\n"
     ]
    }
   ],
   "source": [
    "s = \"4\"\n",
    "e = \"23\"\n",
    "\n",
    "jf = show_transcripts(s, e)"
   ]
  },
  {
   "cell_type": "code",
   "execution_count": 236,
   "id": "393ef426-a220-452a-bb89-d56c307a5cac",
   "metadata": {},
   "outputs": [
    {
     "name": "stdout",
     "output_type": "stream",
     "text": [
      "1\n"
     ]
    }
   ],
   "source": [
    "# Check how many transcripts need fixing for that episode\n",
    "print(len(jf))  "
   ]
  },
  {
   "cell_type": "code",
   "execution_count": 184,
   "id": "046d9d6c-0b5f-4765-bd0f-7419ef8402b6",
   "metadata": {},
   "outputs": [
    {
     "name": "stdout",
     "output_type": "stream",
     "text": [
      "friends_s04e23d_aaUt.json\n",
      "dict_keys(['transcript', 'words', 'sentences'])\n"
     ]
    }
   ],
   "source": [
    "# For an episode, process each transcript that has the theme song in it (typically transcript a)\n",
    "t = 0\n",
    "out_path = jf[t][0]\n",
    "td = jf[t][1]\n",
    "\n",
    "print(os.path.basename(out_path))\n",
    "print(td.keys())"
   ]
  },
  {
   "cell_type": "code",
   "execution_count": 185,
   "id": "369d9fdc-bcef-4a56-ae47-8583c3ce4128",
   "metadata": {},
   "outputs": [
    {
     "name": "stdout",
     "output_type": "stream",
     "text": [
      "False\n",
      "Well, I've never done that with you before. Nope. So how are you? You okay? Yep. Yep. You? Oh, yes, yes. Uh huh. You. We did you. Well, I better get going. Oh, yeah, absolutely. Could you not look? I don't want to look. Hello? Hey. Where the hell have you been? Hey. I spent the night out. I met this cute bridesmaid. She is so. I. I don't want to hear about her. Aw, Pheeves, you know you're still my number one girl. No, no. We have an emergency. Okay. Rachel's coming to London. Oh, great. Well, it's not great. No, she's coming to tell Ross that she loves him. But he loves Emily. I know that. You have to stop her. She's gonna ruin the wedding. Okay. All right. So. Okay, hold on, hold on. Rachel Cummings, do something. Okay, so then I've done my part. Okay? It's your responsibility now. The burden is off me, right? Right. So tell me about this girl. And so then I realized all the stuff that I had been doing. Proposing to Joshua, lying to Ross about why I couldn't come to the wedding was all just a way of. Oh, oh, oh, oh. I'm sorry, can I interrupt here? I just want to say that you are a horrible, horrible person. Pardon me? You say you love this man and yet you're about to ruin the happiest day of his life. I'm afraid I have to agree with your friend. This is a terrible, terrible plan. But he has to know how I feel. But why? He loves this. This Emily person. No good can come of this. Well, I think you're wrong. Oh, no. Well, he doesn't really love her. I mean, it's just a rebound thing from me. You'll see. Fortunately, I won't. By the. It seems to be perfectly clear that you were on a break. Do something. Something. Hey. Hey. Have you seen Monica? I'm not seeing Monica. Bu. What? What? Look, we. We gotta find her. Phoebe just called. Rachel's coming to tell Ross she loves him. Oh, my God. I know. That's why we gotta find Monica. Do you know where she is? No. Okay, what's with the third degree? Why don't you shine a light in my eyes? Oh, my God. It's like a fairyland. I know. It's horrible, isn't it? Well, I love it. I only hope my wedding looks this good. I just hope you can let some of them go by. Psst. Rick. All right, we really need to start looking out for Rachel. I'll cover the front door. You watch that big hole at the Back of the building. And I got Chandler covering Ross. Why would I care where Chandler is? You know? You know, sometimes I don't even like Chandler. Okay, I do. I do. I do. Oh, yeah, you're right. It's the second one. Right? Hey, Joey. Hey, Felicity. I thought about you all day. Yeah? Talk New York to me again. Forget about it. How you doing? If there's nothing to discuss, we're not paying for your wine cellar. You have to meet me in the middle here. Hey, you keep pushing me on this, my foot's gonna meet the middle of your ass. What's going on? Nothing. Nothing. Everything's under control. You want a piece of me, sir? Is that what you're saying? Want a piece of me? Okay, that's it. Parents. Parents. Back away, all right? This is our wedding day. From now on, everyone gets along. And if I hear one more word, no grandchildren. That's right. Okay, okay. Sorry, old boy. Sorry. Sorry. I could kill you with my thumb, you know. What was all that about? It was this disagreement or. My God, You. You look beautiful. Oh. Oh. You're not meant to see me before the wedding's bad luck. You know what? I think we've had all the bad luck. We're going to it. Thank God. Rachel, you're here. I can't believe it. What happened? Why are you here? Well, I just came. I just needed to tell you congratulations. It's. Hello, Waltham Interiors. Mrs. Waltham, hi, it's Phoebe again. Why? Yeah, can I please, please, please talk to one of the best men? This is gonna be the last time. I promise. Joey, there's a girl on the phone for you. Oh, great. Hello? Joey, it's Phoebe. Did you stop Rachel? No, but it's okay. She just came in and gave him a hug. That's it? Nothing got ruined? No. Oh, that's so great. Oh, so, what's going on now? I'm walking down the aisle. Still walking. I'm about to pass the bridesmaid I hooked up with last night. Hey, I just told her, hey. Okay, now I'm at the front with Ross. It's Phoebe. He looks pretty mad. I better go. No, wait, wait, wait. Oh, please hold. Hold it up so I can listen. What we did last night was stupid. Totally crazy stupid. What were we thinking? I'm coming over tonight though, right? Oh, yeah, Definitely. Friends, family are gathered to celebrate here today the joyous union of Ross and Emily. Be the happiness we share with them today. Be with them always. Now, Emily, repeat after me. I, Emily. I, Emily. Take thee, Ross. Take thee, Ross. As my lawfully wedded husband, in sickness and in health, till death parts us. As my lawfully wedded husband, in sickness and in health, until death parts us. Our Ross. Repeat after me. Ay. Ross. I, Ross, Take thee, Emily. Take thee, Rachel. Emily. Emily. Shall I go on? Mother. Mother. Peter. Peter. Take one. Oh, the band's ready. Well, we gotta do what the band says. I don't care about the stupid band. Well, it's getting late. Here we go. Actually, you guys would mind staying here with me for a while. You know, we gotta get up early and catch that plane to New York. Yeah, it's a very large plane. Why? What's the matter? Sa.\n"
     ]
    }
   ],
   "source": [
    "# Copy transcript segments before and after them song to remove it from the transcript text\n",
    "seg_1 = \"Well, I've never done that with you before. Nope. So how are you? You okay? Yep. Yep. You? Oh, yes, yes. Uh huh. You. We did you. Well, I better get going. Oh, yeah, absolutely. Could you not look? I don't want to look. Hello? Hey. Where the hell have you been? Hey. I spent the night out. I met this cute bridesmaid. She is so. I. I don't want to hear about her. Aw, Pheeves, you know you're still my number one girl. No, no. We have an emergency. Okay. Rachel's coming to London. Oh, great. Well, it's not great. No, she's coming to tell Ross that she loves him. But he loves Emily. I know that. You have to stop her. She's gonna ruin the wedding. Okay. All right. So. Okay, hold on, hold on. Rachel Cummings, do something. Okay, so then I've done my part. Okay? It's your responsibility now. The burden is off me, right? Right. So tell me about this girl. And so then I realized all the stuff that I had been doing. Proposing to Joshua, lying to Ross about why I couldn't come to the wedding was all just a way of. Oh, oh, oh, oh. I'm sorry, can I interrupt here? I just want to say that you are a horrible, horrible person. Pardon me? You say you love this man and yet you're about to ruin the happiest day of his life. I'm afraid I have to agree with your friend. This is a terrible, terrible plan. But he has to know how I feel. But why? He loves this. This Emily person. No good can come of this. Well, I think you're wrong. Oh, no. Well, he doesn't really love her. I mean, it's just a rebound thing from me. You'll see. Fortunately, I won't. By the. It seems to be perfectly clear that you were on a break. Do something. Something. Hey. Hey. Have you seen Monica? I'm not seeing Monica. Bu. What? What? Look, we. We gotta find her. Phoebe just called. Rachel's coming to tell Ross she loves him. Oh, my God. I know. That's why we gotta find Monica. Do you know where she is? No. Okay, what's with the third degree? Why don't you shine a light in my eyes? Oh, my God. It's like a fairyland. I know. It's horrible, isn't it? Well, I love it. I only hope my wedding looks this good. I just hope you can let some of them go by. Psst. Rick. All right, we really need to start looking out for Rachel. I'll cover the front door. You watch that big hole at the Back of the building. And I got Chandler covering Ross. Why would I care where Chandler is? You know? You know, sometimes I don't even like Chandler. Okay, I do. I do. I do. Oh, yeah, you're right. It's the second one. Right? Hey, Joey. Hey, Felicity. I thought about you all day. Yeah? Talk New York to me again. Forget about it. How you doing? If there's nothing to discuss, we're not paying for your wine cellar. You have to meet me in the middle here. Hey, you keep pushing me on this, my foot's gonna meet the middle of your ass. What's going on? Nothing. Nothing. Everything's under control. You want a piece of me, sir? Is that what you're saying? Want a piece of me? Okay, that's it. Parents. Parents. Back away, all right? This is our wedding day. From now on, everyone gets along. And if I hear one more word, no grandchildren. That's right. Okay, okay. Sorry, old boy. Sorry. Sorry. I could kill you with my thumb, you know. What was all that about? It was this disagreement or. My God, You. You look beautiful. Oh. Oh. You're not meant to see me before the wedding's bad luck. You know what? I think we've had all the bad luck. We're going to it. Thank God. Rachel, you're here. I can't believe it. What happened? Why are you here? Well, I just came. I just needed to tell you congratulations. It's. Hello, Waltham Interiors. Mrs. Waltham, hi, it's Phoebe again. Why? Yeah, can I please, please, please talk to one of the best men? This is gonna be the last time. I promise. Joey, there's a girl on the phone for you. Oh, great. Hello? Joey, it's Phoebe. Did you stop Rachel? No, but it's okay. She just came in and gave him a hug. That's it? Nothing got ruined? No. Oh, that's so great. Oh, so, what's going on now? I'm walking down the aisle. Still walking. I'm about to pass the bridesmaid I hooked up with last night. Hey, I just told her, hey. Okay, now I'm at the front with Ross. It's Phoebe. He looks pretty mad. I better go. No, wait, wait, wait. Oh, please hold. Hold it up so I can listen. What we did last night was stupid. Totally crazy stupid. What were we thinking? I'm coming over tonight though, right? Oh, yeah, Definitely. Friends, family are gathered to celebrate here today the joyous union of Ross and Emily. Be the happiness we share with them today. Be with them always. Now, Emily, repeat after me. I, Emily. I, Emily. Take thee, Ross. Take thee, Ross. As my lawfully wedded husband, in sickness and in health, till death parts us. As my lawfully wedded husband, in sickness and in health, until death parts us. Our Ross. Repeat after me. Ay. Ross. I, Ross, Take thee, Emily. Take thee, Rachel. Emily. Emily. Shall I go on?\"\n",
    "seg_2 = \"Mother. Mother. Peter. Peter. Take one. Oh, the band's ready. Well, we gotta do what the band says. I don't care about the stupid band. Well, it's getting late. Here we go. Actually, you guys would mind staying here with me for a while. You know, we gotta get up early and catch that plane to New York. Yeah, it's a very large plane. Why? What's the matter? Sa.\"\n",
    "\n",
    "# Sanity check\n",
    "new_transcript = seg_1 + \" \" + seg_2\n",
    "#print(\"be this way\" in new_transcript)\n",
    "print(\"no one told\" in new_transcript)\n",
    "print(new_transcript)\n"
   ]
  },
  {
   "cell_type": "code",
   "execution_count": 186,
   "id": "213fe3a4-ae67-444b-9cc4-b6ed23e94028",
   "metadata": {},
   "outputs": [],
   "source": [
    "# Modify transcript with corrected version \n",
    "td['transcript'] = new_transcript \n"
   ]
  },
  {
   "cell_type": "code",
   "execution_count": null,
   "id": "7975abfa-2c5c-43e7-a17a-1aaac932e4a8",
   "metadata": {},
   "outputs": [],
   "source": []
  },
  {
   "cell_type": "code",
   "execution_count": 136,
   "id": "03641f97-74b7-4afb-90d8-ef59580477df",
   "metadata": {},
   "outputs": [
    {
     "name": "stdout",
     "output_type": "stream",
     "text": [
      "[{'word': 'hey.', 'start': 118.34, 'end': 118.58, 'speaker': None, 'confidence': 0.84643555}, {'word': 'Hey.', 'start': 118.58, 'end': 118.94, 'speaker': None, 'confidence': 0.98046875}]\n"
     ]
    },
    {
     "data": {
      "text/plain": [
       "[{'word': 'Hey,',\n",
       "  'start': 118.34,\n",
       "  'end': 118.58,\n",
       "  'speaker': None,\n",
       "  'confidence': 0.84643555},\n",
       " {'word': 'hey.',\n",
       "  'start': 118.58,\n",
       "  'end': 118.94,\n",
       "  'speaker': None,\n",
       "  'confidence': 0.98046875}]"
      ]
     },
     "execution_count": 136,
     "metadata": {},
     "output_type": "execute_result"
    }
   ],
   "source": [
    "\"\"\"\n",
    "Single word manual spelling fixes\n",
    "\"\"\"\n",
    "\n",
    "\"\"\"\n",
    "for i in range(192, 196):\n",
    "    print(i, td[\"words\"][i])\n",
    "\n",
    "td[\"words\"][193]['word'] = \"I'm\"\n",
    "\n",
    "temp_w = {\n",
    "    'word': 'good.',\n",
    "    'start': 82.07,\n",
    "    'end': 82.27,\n",
    "    'speaker': None,\n",
    "    'confidence': 0.9873047\n",
    "}\n",
    "\n",
    "td[\"words\"] = td[\"words\"][:194] + [temp_w] + td[\"words\"][194:]\n",
    "\n",
    "print()\n",
    "for i in range(192, 196):\n",
    "    print(i, td[\"words\"][i])\n",
    "\"\"\"\n",
    "\n",
    "#print(td[\"words\"][194:196])\n",
    "\n",
    "#td[\"words\"][194]['word'] = 'Hey,'\n",
    "#td[\"words\"][195]['word'] = 'hey.'\n",
    "\n",
    "#td[\"words\"][194:196]"
   ]
  },
  {
   "cell_type": "code",
   "execution_count": null,
   "id": "e34ebc58-ef7b-48f7-a6cb-17420bc2eccc",
   "metadata": {},
   "outputs": [],
   "source": []
  },
  {
   "cell_type": "code",
   "execution_count": 187,
   "id": "c036285c-af24-4a78-acf8-74e3bada441e",
   "metadata": {},
   "outputs": [
    {
     "name": "stdout",
     "output_type": "stream",
     "text": [
      "938 Shall\n"
     ]
    }
   ],
   "source": [
    "# Remove theme song words\n",
    "\n",
    "# Pick a rare-ish key word close to theme song onset\n",
    "key_word = \"Shall\"\n",
    "\n",
    "# get key word index\n",
    "for j, w in enumerate(td[\"words\"]):\n",
    "    if key_word in w['word']:\n",
    "        print(j, w['word'])\n"
   ]
  },
  {
   "cell_type": "code",
   "execution_count": 188,
   "id": "4d933dfd-fcf6-4fed-914a-1d69f05d6110",
   "metadata": {
    "scrolled": true
   },
   "outputs": [
    {
     "name": "stdout",
     "output_type": "stream",
     "text": [
      "938 Shall\n",
      "939 I\n",
      "940 go\n",
      "941 on?\n",
      "942 No\n",
      "943 one\n",
      "944 told\n",
      "945 you\n",
      "946 life\n",
      "947 was\n",
      "948 gonna\n",
      "949 be\n",
      "950 this\n",
      "951 way.\n",
      "952 Your\n",
      "953 job's\n",
      "954 a\n",
      "955 joke.\n",
      "956 You\n",
      "957 broke\n",
      "958 your\n",
      "959 love.\n",
      "960 Life's\n",
      "961 the\n",
      "962 old\n",
      "963 way.\n",
      "964 It's\n",
      "965 like\n",
      "966 you're\n",
      "967 always\n",
      "968 stuck\n",
      "969 in\n",
      "970 second\n",
      "971 gear.\n",
      "972 When\n",
      "973 it\n",
      "974 hasn't\n",
      "975 been\n",
      "976 your\n",
      "977 day,\n",
      "978 week,\n",
      "979 month.\n",
      "980 I'll\n",
      "981 be\n",
      "982 there\n",
      "983 for\n",
      "984 you.\n",
      "985 I'll\n",
      "986 be\n",
      "987 there\n",
      "988 for\n",
      "989 you.\n",
      "990 Mother.\n",
      "991 Mother.\n",
      "992 Peter.\n",
      "993 Peter.\n",
      "994 Take\n",
      "995 one.\n",
      "996 Oh,\n",
      "997 the\n",
      "998 band's\n",
      "999 ready.\n",
      "1000 Well,\n",
      "1001 we\n",
      "1002 gotta\n",
      "1003 do\n",
      "1004 what\n",
      "1005 the\n",
      "1006 band\n",
      "1007 says.\n",
      "1008 I\n",
      "1009 don't\n",
      "1010 care\n",
      "1011 about\n",
      "1012 the\n",
      "1013 stupid\n",
      "1014 band.\n",
      "1015 Well,\n",
      "1016 it's\n",
      "1017 getting\n"
     ]
    }
   ],
   "source": [
    "# copy key word index from above\n",
    "kw = 938\n",
    "\n",
    "for j in range(kw, kw+80):\n",
    "    print(j, td[\"words\"][j][\"word\"])"
   ]
  },
  {
   "cell_type": "code",
   "execution_count": 189,
   "id": "563a04c5-a5d6-40bc-997a-dd12aabe5507",
   "metadata": {
    "scrolled": true
   },
   "outputs": [
    {
     "name": "stdout",
     "output_type": "stream",
     "text": [
      "938 Shall\n",
      "939 I\n",
      "940 go\n",
      "941 on?\n",
      "942 Mother.\n",
      "943 Mother.\n",
      "944 Peter.\n",
      "945 Peter.\n",
      "946 Take\n",
      "947 one.\n",
      "948 Oh,\n",
      "949 the\n",
      "950 band's\n",
      "951 ready.\n",
      "952 Well,\n",
      "953 we\n",
      "954 gotta\n",
      "955 do\n",
      "956 what\n",
      "957 the\n",
      "958 band\n",
      "959 says.\n",
      "960 I\n",
      "961 don't\n",
      "962 care\n",
      "963 about\n",
      "964 the\n",
      "965 stupid\n",
      "966 band.\n",
      "967 Well,\n",
      "968 it's\n",
      "969 getting\n",
      "970 late.\n",
      "971 Here\n",
      "972 we\n",
      "973 go.\n",
      "974 Actually,\n",
      "975 you\n",
      "976 guys\n",
      "977 would\n",
      "978 mind\n",
      "979 staying\n",
      "980 here\n",
      "981 with\n",
      "982 me\n",
      "983 for\n",
      "984 a\n",
      "985 while.\n",
      "986 You\n",
      "987 know,\n",
      "988 we\n",
      "989 gotta\n",
      "990 get\n",
      "991 up\n",
      "992 early\n",
      "993 and\n",
      "994 catch\n",
      "995 that\n",
      "996 plane\n",
      "997 to\n",
      "998 New\n",
      "999 York.\n",
      "1000 Yeah,\n",
      "1001 it's\n",
      "1002 a\n",
      "1003 very\n",
      "1004 large\n",
      "1005 plane.\n",
      "1006 Why?\n",
      "1007 What's\n",
      "1008 the\n",
      "1009 matter?\n",
      "1010 Sa.\n"
     ]
    },
    {
     "ename": "IndexError",
     "evalue": "list index out of range",
     "output_type": "error",
     "traceback": [
      "\u001b[0;31m---------------------------------------------------------------------------\u001b[0m",
      "\u001b[0;31mIndexError\u001b[0m                                Traceback (most recent call last)",
      "Cell \u001b[0;32mIn[189], line 9\u001b[0m\n\u001b[1;32m      6\u001b[0m new_words \u001b[38;5;241m=\u001b[39m td[\u001b[38;5;124m\"\u001b[39m\u001b[38;5;124mwords\u001b[39m\u001b[38;5;124m\"\u001b[39m][:e_1] \u001b[38;5;241m+\u001b[39m td[\u001b[38;5;124m\"\u001b[39m\u001b[38;5;124mwords\u001b[39m\u001b[38;5;124m\"\u001b[39m][e_2:]\n\u001b[1;32m      8\u001b[0m \u001b[38;5;28;01mfor\u001b[39;00m j \u001b[38;5;129;01min\u001b[39;00m \u001b[38;5;28mrange\u001b[39m(kw, kw\u001b[38;5;241m+\u001b[39m\u001b[38;5;241m80\u001b[39m):    \n\u001b[0;32m----> 9\u001b[0m     \u001b[38;5;28mprint\u001b[39m(j, \u001b[43mnew_words\u001b[49m\u001b[43m[\u001b[49m\u001b[43mj\u001b[49m\u001b[43m]\u001b[49m[\u001b[38;5;124m\"\u001b[39m\u001b[38;5;124mword\u001b[39m\u001b[38;5;124m\"\u001b[39m])\n",
      "\u001b[0;31mIndexError\u001b[0m: list index out of range"
     ]
    }
   ],
   "source": [
    "# Pick boundary indices to remove theme song words\n",
    "e_1 = 942  # First word of theme song\n",
    "e_2 = 990  # First word of dialog AFTER the theme song\n",
    "\n",
    "# sanity check: make sure the theme song words are removed, and nothing else is missing\n",
    "new_words = td[\"words\"][:e_1] + td[\"words\"][e_2:]\n",
    "\n",
    "for j in range(kw, kw+80):    \n",
    "    print(j, new_words[j][\"word\"])"
   ]
  },
  {
   "cell_type": "code",
   "execution_count": 190,
   "id": "7c84fd32-77a8-4111-95f5-68a07c631a76",
   "metadata": {},
   "outputs": [],
   "source": [
    "# Modify words with corrected version \n",
    "td[\"words\"] = new_words\n",
    "\n"
   ]
  },
  {
   "cell_type": "code",
   "execution_count": null,
   "id": "6b88ff99-5c52-481b-8060-867624d4f75a",
   "metadata": {},
   "outputs": [],
   "source": []
  },
  {
   "cell_type": "code",
   "execution_count": 18,
   "id": "a2444f4d-0013-4e3d-8d9e-6a6a3131ebc2",
   "metadata": {},
   "outputs": [
    {
     "name": "stdout",
     "output_type": "stream",
     "text": [
      "{'text': \"It's like you're always stuck in second gear when it hasn't been your day, week, your month We've been your year But I'll be there for you when race starts to pour I'll be there for you Like I've been there before I'll be there for you There for me too Monica, I'm sorry I'm late.\", 'start': 122.41, 'end': 157.35, 'speaker': None, 'confidence': 0.9873047, 'words': [{'word': \"It's\", 'start': 122.41, 'end': 122.77, 'speaker': None, 'confidence': 0.9873047}, {'word': 'like', 'start': 122.77, 'end': 123.01, 'speaker': None, 'confidence': 0.9980469}, {'word': \"you're\", 'start': 123.01, 'end': 123.45, 'speaker': None, 'confidence': 0.98567706}, {'word': 'always', 'start': 123.45, 'end': 123.77, 'speaker': None, 'confidence': 0.9995117}, {'word': 'stuck', 'start': 123.85, 'end': 124.29, 'speaker': None, 'confidence': 0.91748047}, {'word': 'in', 'start': 124.29, 'end': 124.65, 'speaker': None, 'confidence': 0.9995117}, {'word': 'second', 'start': 124.65, 'end': 125.05, 'speaker': None, 'confidence': 0.99902344}, {'word': 'gear', 'start': 125.21, 'end': 125.77, 'speaker': None, 'confidence': 0.859375}, {'word': 'when', 'start': 126.89, 'end': 127.17, 'speaker': None, 'confidence': 0.9980469}, {'word': 'it', 'start': 127.17, 'end': 127.33, 'speaker': None, 'confidence': 0.9995117}, {'word': \"hasn't\", 'start': 127.33, 'end': 127.77, 'speaker': None, 'confidence': 0.99938965}, {'word': 'been', 'start': 127.77, 'end': 128.05, 'speaker': None, 'confidence': 0.99853516}, {'word': 'your', 'start': 128.05, 'end': 128.37, 'speaker': None, 'confidence': 0.99853516}, {'word': 'day,', 'start': 128.37, 'end': 128.73, 'speaker': None, 'confidence': 0.9995117}, {'word': 'week,', 'start': 128.97, 'end': 129.37, 'speaker': None, 'confidence': 0.97216797}, {'word': 'your', 'start': 129.37, 'end': 129.69, 'speaker': None, 'confidence': 0.89404297}, {'word': 'month', 'start': 129.69, 'end': 130.01, 'speaker': None, 'confidence': 0.9711914}, {'word': \"We've\", 'start': 130.25, 'end': 130.65, 'speaker': None, 'confidence': 0.8585612}, {'word': 'been', 'start': 130.65, 'end': 130.77, 'speaker': None, 'confidence': 0.9711914}, {'word': 'your', 'start': 130.77, 'end': 131.01, 'speaker': None, 'confidence': 0.9301758}, {'word': 'year', 'start': 131.01, 'end': 131.37, 'speaker': None, 'confidence': 0.5913086}, {'word': 'But', 'start': 131.93, 'end': 132.33, 'speaker': None, 'confidence': 0.9448242}, {'word': \"I'll\", 'start': 132.65, 'end': 133.17, 'speaker': None, 'confidence': 0.8927409}, {'word': 'be', 'start': 133.17, 'end': 133.53, 'speaker': None, 'confidence': 1.0}, {'word': 'there', 'start': 133.53, 'end': 133.93, 'speaker': None, 'confidence': 0.9995117}, {'word': 'for', 'start': 134.01, 'end': 134.41, 'speaker': None, 'confidence': 1.0}, {'word': 'you', 'start': 134.49, 'end': 134.89, 'speaker': None, 'confidence': 0.99902344}, {'word': 'when', 'start': 135.69, 'end': 136.05, 'speaker': None, 'confidence': 0.7573242}, {'word': 'race', 'start': 136.05, 'end': 136.53, 'speaker': None, 'confidence': 0.763916}, {'word': 'starts', 'start': 136.53, 'end': 137.05, 'speaker': None, 'confidence': 0.7751465}, {'word': 'to', 'start': 137.05, 'end': 137.25, 'speaker': None, 'confidence': 0.9189453}, {'word': 'pour', 'start': 137.25, 'end': 137.69, 'speaker': None, 'confidence': 0.36346436}, {'word': \"I'll\", 'start': 137.69, 'end': 138.21, 'speaker': None, 'confidence': 0.9949544}, {'word': 'be', 'start': 138.21, 'end': 138.49, 'speaker': None, 'confidence': 0.9995117}, {'word': 'there', 'start': 138.49, 'end': 138.89, 'speaker': None, 'confidence': 0.9995117}, {'word': 'for', 'start': 139.05, 'end': 139.45, 'speaker': None, 'confidence': 1.0}, {'word': 'you', 'start': 139.53, 'end': 139.93, 'speaker': None, 'confidence': 0.9682617}, {'word': 'Like', 'start': 140.73, 'end': 141.01, 'speaker': None, 'confidence': 0.9838867}, {'word': \"I've\", 'start': 141.01, 'end': 141.25, 'speaker': None, 'confidence': 0.84261066}, {'word': 'been', 'start': 141.25, 'end': 141.53, 'speaker': None, 'confidence': 0.99365234}, {'word': 'there', 'start': 141.53, 'end': 141.93, 'speaker': None, 'confidence': 0.99853516}, {'word': 'before', 'start': 141.93, 'end': 142.33, 'speaker': None, 'confidence': 0.9975586}, {'word': \"I'll\", 'start': 142.65, 'end': 143.25, 'speaker': None, 'confidence': 0.9713542}, {'word': 'be', 'start': 143.25, 'end': 143.53, 'speaker': None, 'confidence': 0.99902344}, {'word': 'there', 'start': 143.53, 'end': 143.93, 'speaker': None, 'confidence': 0.57714844}, {'word': 'for', 'start': 144.09, 'end': 144.49, 'speaker': None, 'confidence': 0.9995117}, {'word': 'you', 'start': 144.57, 'end': 144.97, 'speaker': None, 'confidence': 0.9951172}, {'word': 'There', 'start': 146.17, 'end': 146.57, 'speaker': None, 'confidence': 0.63427734}, {'word': 'for', 'start': 146.65, 'end': 146.97, 'speaker': None, 'confidence': 0.9897461}, {'word': 'me', 'start': 146.97, 'end': 147.29, 'speaker': None, 'confidence': 0.9838867}, {'word': 'too', 'start': 147.37, 'end': 147.77, 'speaker': None, 'confidence': 0.76953125}, {'word': 'Monica,', 'start': 154.79, 'end': 155.43, 'speaker': None, 'confidence': 0.99869794}, {'word': \"I'm\", 'start': 155.91, 'end': 156.31, 'speaker': None, 'confidence': 0.93880206}, {'word': 'sorry', 'start': 156.31, 'end': 156.71, 'speaker': None, 'confidence': 0.92561847}, {'word': \"I'm\", 'start': 156.71, 'end': 157.03, 'speaker': None, 'confidence': 0.9991862}, {'word': 'late.', 'start': 157.03, 'end': 157.35, 'speaker': None, 'confidence': 1.0}]}\n",
      "\n",
      "{'text': \"Monica, I'm sorry I'm late.\", 'start': 154.79, 'end': 157.35, 'speaker': None, 'confidence': 0.9873047, 'words': [{'word': 'Monica,', 'start': 154.79, 'end': 155.43, 'speaker': None, 'confidence': 0.99869794}, {'word': \"I'm\", 'start': 155.91, 'end': 156.31, 'speaker': None, 'confidence': 0.93880206}, {'word': 'sorry', 'start': 156.31, 'end': 156.71, 'speaker': None, 'confidence': 0.92561847}, {'word': \"I'm\", 'start': 156.71, 'end': 157.03, 'speaker': None, 'confidence': 0.9991862}, {'word': 'late.', 'start': 157.03, 'end': 157.35, 'speaker': None, 'confidence': 1.0}]}\n"
     ]
    }
   ],
   "source": [
    "\"\"\"\n",
    "Manual sentences edits\n",
    "\"\"\"\n",
    "\n",
    "#print(td[\"sentences\"][17], td[\"sentences\"][17]['words'][-1])\n",
    "#print()\n",
    "\n",
    "#td[\"sentences\"][17]['text'] = 'Goodbye muscles.'\n",
    "#td[\"sentences\"][17]['words'][-1]['word'] = 'muscles.' \n",
    "\n",
    "#print(td[\"sentences\"][17], td[\"sentences\"][17]['words'][-1])\n",
    "\n",
    "#print(td[\"sentences\"][29])\n",
    "#print()\n",
    "#td[\"sentences\"][29]['text'] = \"We still need a tip.\"\n",
    "#td[\"sentences\"][29]['words'] = td[\"sentences\"][29]['words'][-5:]\n",
    "\n",
    "#td[\"sentences\"][29]['start'] = td[\"sentences\"][29]['words'][0]['start']\n",
    "#td[\"sentences\"][29]['words'][0]['word'] = \"We\"\n",
    "\n",
    "#print(td[\"sentences\"][29])\n",
    "\n",
    "\"\"\"\n",
    "print(td[\"sentences\"][44])\n",
    "\n",
    "td[\"sentences\"][44]['text'] = \"I'm good.\"\n",
    "td[\"sentences\"][44]['words'] = td[\"sentences\"][44]['words'] + [temp_w] \n",
    "td[\"sentences\"][44]['words'][0]['word'] = \"I'm\"\n",
    "td[\"sentences\"][44]['end'] = td[\"sentences\"][44]['words'][-1]['end']\n",
    "\n",
    "print()\n",
    "print(td[\"sentences\"][44])\n",
    "\"\"\"\n",
    "\n",
    "\"\"\"\n",
    "for i in range(37, 39):\n",
    "    print(i, td[\"sentences\"][i])\n",
    "\n",
    "td[\"sentences\"][37]['text'] = 'Hey, hey.'\n",
    "td[\"sentences\"][37]['words'] = td[\"sentences\"][37]['words'][1:] + td[\"sentences\"][38]['words']\n",
    "td[\"sentences\"][37]['start'] = td[\"sentences\"][37]['words'][0]['start']\n",
    "td[\"sentences\"][37]['end'] = td[\"sentences\"][37]['words'][-1]['end']\n",
    "td[\"sentences\"][37]['words'][0]['word'] = 'Hey,'\n",
    "td[\"sentences\"][37]['words'][-1]['word'] = 'hey.'\n",
    "\n",
    "td[\"sentences\"] = td[\"sentences\"][:38] + td[\"sentences\"][39:]\n",
    "\n",
    "print()\n",
    "for i in range(37, 39):\n",
    "    print(i, td[\"sentences\"][i])\n",
    "\"\"\"\n",
    "\n",
    "\"\"\"\n",
    "print(td[\"sentences\"][60])\n",
    "\n",
    "td[\"sentences\"][60]['text'] = \"Monica, I'm sorry I'm late.\"\n",
    "td[\"sentences\"][60]['words'] = td[\"sentences\"][60]['words'][-5:]\n",
    "td[\"sentences\"][60]['start'] = td[\"sentences\"][60]['words'][0]['start']\n",
    "\n",
    "print()\n",
    "print(td[\"sentences\"][60])\n",
    "\"\"\""
   ]
  },
  {
   "cell_type": "code",
   "execution_count": null,
   "id": "3dcfa373-fbf8-4964-bd86-ad4d9b51ebf6",
   "metadata": {},
   "outputs": [],
   "source": []
  },
  {
   "cell_type": "code",
   "execution_count": 191,
   "id": "3295e868-6c8a-4845-829b-8fc9d5e96c86",
   "metadata": {
    "scrolled": true
   },
   "outputs": [
    {
     "name": "stdout",
     "output_type": "stream",
     "text": [
      "0 Well, I've never done that with you before.\n",
      "1 Nope.\n",
      "2 So how are you?\n",
      "3 You okay?\n",
      "4 Yep.\n",
      "5 Yep.\n",
      "6 You?\n",
      "7 Oh, yes, yes.\n",
      "8 Uh huh.\n",
      "9 You.\n",
      "10 We did you.\n",
      "11 Well, I better get going.\n",
      "12 Oh, yeah, absolutely.\n",
      "13 Could you not look?\n",
      "14 I don't want to look.\n",
      "15 Hello?\n",
      "16 Hey.\n",
      "17 Where the hell have you been?\n",
      "18 Hey.\n",
      "19 I spent the night out.\n",
      "20 I met this cute bridesmaid.\n",
      "21 She is so.\n",
      "22 I. I don't want to hear about her.\n",
      "23 Aw, Pheeves, you know you're still my number one girl.\n",
      "24 No, no.\n",
      "25 We have an emergency.\n",
      "26 Okay.\n",
      "27 Rachel's coming to London.\n",
      "28 Oh, great.\n",
      "29 Well, it's not great.\n",
      "30 No, she's coming to tell Ross that she loves him.\n",
      "31 But he loves Emily.\n",
      "32 I know that.\n",
      "33 You have to stop her.\n",
      "34 She's gonna ruin the wedding.\n",
      "35 Okay.\n",
      "36 All right.\n",
      "37 So.\n",
      "38 Okay, hold on, hold on.\n",
      "39 Rachel Cummings, do something.\n",
      "40 Okay, so then I've done my part.\n",
      "41 Okay?\n",
      "42 It's your responsibility now.\n",
      "43 The burden is off me, right?\n",
      "44 Right.\n",
      "45 So tell me about this girl.\n",
      "46 And so then I realized all the stuff that I had been doing.\n",
      "47 Proposing to Joshua, lying to Ross about why I couldn't come to the wedding was all just a way of.\n",
      "48 Oh, oh, oh, oh.\n",
      "49 I'm sorry, can I interrupt here?\n",
      "50 I just want to say that you are a horrible, horrible person.\n",
      "51 Pardon me?\n",
      "52 You say you love this man and yet you're about to ruin the happiest day of his life.\n",
      "53 I'm afraid I have to agree with your friend.\n",
      "54 This is a terrible, terrible plan.\n",
      "55 But he has to know how I feel.\n",
      "56 But why?\n",
      "57 He loves this.\n",
      "58 This Emily person.\n",
      "59 No good can come of this.\n",
      "60 Well, I think you're wrong.\n",
      "61 Oh, no.\n",
      "62 Well, he doesn't really love her.\n",
      "63 I mean, it's just a rebound thing from me.\n",
      "64 You'll see.\n",
      "65 Fortunately, I won't.\n",
      "66 By the.\n",
      "67 It seems to be perfectly clear that you were on a break.\n",
      "68 Do something.\n",
      "69 Something.\n",
      "70 Hey.\n",
      "71 Hey.\n",
      "72 Have you seen Monica?\n",
      "73 I'm not seeing Monica.\n",
      "74 Bu.\n",
      "75 What?\n",
      "76 What?\n",
      "77 Look, we.\n",
      "78 We gotta find her.\n",
      "79 Phoebe just called.\n",
      "80 Rachel's coming to tell Ross she loves him.\n",
      "81 Oh, my God.\n",
      "82 I know.\n",
      "83 That's why we gotta find Monica.\n",
      "84 Do you know where she is?\n",
      "85 No.\n",
      "86 Okay, what's with the third degree?\n",
      "87 Why don't you shine a light in my eyes?\n",
      "88 Oh, my God.\n",
      "89 It's like a fairyland.\n",
      "90 I know.\n",
      "91 It's horrible, isn't it?\n",
      "92 Well, I love it.\n",
      "93 I only hope my wedding looks this good.\n",
      "94 I just hope you can let some of them go by.\n",
      "95 Psst.\n",
      "96 Rick.\n",
      "97 All right, we really need to start looking out for Rachel.\n",
      "98 I'll cover the front door.\n",
      "99 You watch that big hole at the Back of the building.\n",
      "100 And I got Chandler covering Ross.\n",
      "101 Why would I care where Chandler is?\n",
      "102 You know?\n",
      "103 You know, sometimes I don't even like Chandler.\n",
      "104 Okay, I do.\n",
      "105 I do.\n",
      "106 I do.\n",
      "107 Oh, yeah, you're right.\n",
      "108 It's the second one.\n",
      "109 Right?\n",
      "110 Hey, Joey.\n",
      "111 Hey, Felicity.\n",
      "112 I thought about you all day.\n",
      "113 Yeah?\n",
      "114 Talk New York to me again.\n",
      "115 Forget about it.\n",
      "116 How you doing?\n",
      "117 If there's nothing to discuss, we're not paying for your wine cellar.\n",
      "118 You have to meet me in the middle here.\n",
      "119 Hey, you keep pushing me on this, my foot's gonna meet the middle of your ass.\n",
      "120 What's going on?\n",
      "121 Nothing.\n",
      "122 Nothing.\n",
      "123 Everything's under control.\n",
      "124 You want a piece of me, sir?\n",
      "125 Is that what you're saying?\n",
      "126 Want a piece of me?\n",
      "127 Okay, that's it.\n",
      "128 Parents.\n",
      "129 Parents.\n",
      "130 Back away, all right?\n",
      "131 This is our wedding day.\n",
      "132 From now on, everyone gets along.\n",
      "133 And if I hear one more word, no grandchildren.\n",
      "134 That's right.\n",
      "135 Okay, okay.\n",
      "136 Sorry, old boy.\n",
      "137 Sorry.\n",
      "138 Sorry.\n",
      "139 I could kill you with my thumb, you know.\n",
      "140 What was all that about?\n",
      "141 It was this disagreement or.\n",
      "142 My God, You.\n",
      "143 You look beautiful.\n",
      "144 Oh.\n",
      "145 Oh.\n",
      "146 You're not meant to see me before the wedding's bad luck.\n",
      "147 You know what?\n",
      "148 I think we've had all the bad luck.\n",
      "149 We're going to it.\n",
      "150 Thank God.\n",
      "151 Rachel, you're here.\n",
      "152 I can't believe it.\n",
      "153 What happened?\n",
      "154 Why are you here?\n",
      "155 Well, I just came.\n",
      "156 I just needed to tell you congratulations.\n",
      "157 It's.\n",
      "158 Hello, Waltham Interiors.\n",
      "159 Mrs. Waltham, hi, it's Phoebe again.\n",
      "160 Why?\n",
      "161 Yeah, can I please, please, please talk to one of the best men?\n",
      "162 This is gonna be the last time.\n",
      "163 I promise.\n",
      "164 Joey, there's a girl on the phone for you.\n",
      "165 Oh, great.\n",
      "166 Hello?\n",
      "167 Joey, it's Phoebe.\n",
      "168 Did you stop Rachel?\n",
      "169 No, but it's okay.\n",
      "170 She just came in and gave him a hug.\n",
      "171 That's it?\n",
      "172 Nothing got ruined?\n",
      "173 No.\n",
      "174 Oh, that's so great.\n",
      "175 Oh, so, what's going on now?\n",
      "176 I'm walking down the aisle.\n",
      "177 Still walking.\n",
      "178 I'm about to pass the bridesmaid I hooked up with last night.\n",
      "179 Hey, I just told her, hey.\n",
      "180 Okay, now I'm at the front with Ross.\n",
      "181 It's Phoebe.\n",
      "182 He looks pretty mad.\n",
      "183 I better go.\n",
      "184 No, wait, wait, wait.\n",
      "185 Oh, please hold.\n",
      "186 Hold it up so I can listen.\n",
      "187 What we did last night was stupid.\n",
      "188 Totally crazy stupid.\n",
      "189 What were we thinking?\n",
      "190 I'm coming over tonight though, right?\n",
      "191 Oh, yeah, Definitely.\n",
      "192 Friends, family are gathered to celebrate here today the joyous union of Ross and Emily.\n",
      "193 Be the happiness we share with them today.\n",
      "194 Be with them always.\n",
      "195 Now, Emily, repeat after me.\n",
      "196 I, Emily.\n",
      "197 I, Emily.\n",
      "198 Take thee, Ross.\n",
      "199 Take thee, Ross.\n",
      "200 As my lawfully wedded husband, in sickness and in health, till death parts us.\n",
      "201 As my lawfully wedded husband, in sickness and in health, until death parts us.\n",
      "202 Our Ross.\n",
      "203 Repeat after me.\n",
      "204 Ay.\n",
      "205 Ross.\n",
      "206 I, Ross, Take thee, Emily.\n",
      "207 Take thee, Rachel.\n",
      "208 Emily.\n",
      "209 Emily.\n",
      "210 Shall I go on?\n",
      "211 No one told you life was gonna be this way.\n",
      "212 Your job's a joke.\n",
      "213 You broke your love.\n",
      "214 Life's the old way.\n",
      "215 It's like you're always stuck in second gear.\n",
      "216 When it hasn't been your day, week, month.\n",
      "217 I'll be there for you.\n",
      "218 I'll be there for you.\n",
      "219 Mother.\n",
      "220 Mother.\n",
      "221 Peter.\n",
      "222 Peter.\n",
      "223 Take one.\n",
      "224 Oh, the band's ready.\n",
      "225 Well, we gotta do what the band says.\n",
      "226 I don't care about the stupid band.\n",
      "227 Well, it's getting late.\n",
      "228 Here we go.\n",
      "229 Actually, you guys would mind staying here with me for a while.\n",
      "230 You know, we gotta get up early and catch that plane to New York.\n",
      "231 Yeah, it's a very large plane.\n",
      "232 Why?\n",
      "233 What's the matter?\n",
      "234 Sa.\n"
     ]
    }
   ],
   "source": [
    "# Identify theme song boundaries\n",
    "for i, s in enumerate(td[\"sentences\"]):\n",
    "    print(i, s[\"text\"])"
   ]
  },
  {
   "cell_type": "code",
   "execution_count": 192,
   "id": "559c5816-48f1-4a34-a1fd-99b4b8fc2921",
   "metadata": {},
   "outputs": [
    {
     "name": "stdout",
     "output_type": "stream",
     "text": [
      "206 I, Ross, Take thee, Emily.\n",
      "207 Take thee, Rachel.\n",
      "208 Emily.\n",
      "209 Emily.\n",
      "210 Shall I go on?\n",
      "211 Mother.\n",
      "212 Mother.\n",
      "213 Peter.\n",
      "214 Peter.\n",
      "215 Take one.\n",
      "216 Oh, the band's ready.\n",
      "217 Well, we gotta do what the band says.\n",
      "218 I don't care about the stupid band.\n"
     ]
    }
   ],
   "source": [
    "# Set theme song boundaries\n",
    "s_1 = 211  # first sentence of theme song\n",
    "s_2 = 219   # first sentence AFTER end of theme song\n",
    "\n",
    "\n",
    "new_sentences = td[\"sentences\"][:s_1] + td[\"sentences\"][s_2:]\n",
    "\n",
    "# Sanity check: check that theme song sentences are removed\n",
    "for i in range(s_1-5, s_2):\n",
    "    print(i, new_sentences[i][\"text\"])\n",
    "    "
   ]
  },
  {
   "cell_type": "code",
   "execution_count": 193,
   "id": "53d0a19f-e7f9-45a4-90b1-7a24e1d655e8",
   "metadata": {},
   "outputs": [],
   "source": [
    "# Modify sentences with corrected version \n",
    "td[\"sentences\"] = new_sentences\n",
    "\n"
   ]
  },
  {
   "cell_type": "code",
   "execution_count": null,
   "id": "f0532b5f-f5f0-4d18-8386-c4218610919e",
   "metadata": {
    "scrolled": true
   },
   "outputs": [],
   "source": []
  },
  {
   "cell_type": "code",
   "execution_count": 194,
   "id": "bf45b2b8-74e0-46bc-9bac-fcda82dbdc59",
   "metadata": {
    "scrolled": true
   },
   "outputs": [],
   "source": [
    "# When all looks good, export results to new .json file\n",
    "\n",
    "with open(out_path.replace('.json', '_ed.json'), \"w\") as outfile:\n",
    "    json.dump(td, outfile)\n",
    "    "
   ]
  },
  {
   "cell_type": "code",
   "execution_count": null,
   "id": "6f582c11-494b-4b4f-a3b4-9a299cef3374",
   "metadata": {},
   "outputs": [],
   "source": []
  },
  {
   "cell_type": "code",
   "execution_count": 195,
   "id": "6742a7b4-c737-4385-bab7-66f485d2e404",
   "metadata": {
    "scrolled": true
   },
   "outputs": [
    {
     "data": {
      "text/plain": [
       "True"
      ]
     },
     "execution_count": 195,
     "metadata": {},
     "output_type": "execute_result"
    }
   ],
   "source": [
    "# Final sanity check: load edited \n",
    "jf = show_transcripts(s, e, \"_ed\")\n",
    "len(jf)==0"
   ]
  },
  {
   "cell_type": "code",
   "execution_count": null,
   "id": "70ffd6e1-f569-49e1-9a44-7993aa01dd21",
   "metadata": {
    "scrolled": true
   },
   "outputs": [],
   "source": []
  },
  {
   "cell_type": "markdown",
   "id": "8bfe4e0c-1720-4c4f-b8e8-3a15fe576c9e",
   "metadata": {},
   "source": [
    "## QCed edited transcripts\n",
    "\n",
    "s7: 01, 02, 03, 04, 05, 06, 07, 08, 09, 10, 11, 12, 13, 14, 15, 16, 17, 18, 19, 20, 21, 22, 23 (complete and QCed)\n",
    "\n",
    "s6: 01, 02, 03, 04, 05, 06, 07, 08, 09, 10, 11, 12, 13, 14, 15a, 17, 18, 19, 20, 21, 22, 23, 24 (complete and QCed)\n",
    "\n",
    "s5: 01, 02, (03 had the theme song removed), 04, 05, 06, 07, 08, 09, 10, 11, 12, 13, 14, 15, 16, 17, 18, 19, 20, 21, 22, 23\n",
    "\n",
    "s4: only 23d has the theme song at the end"
   ]
  },
  {
   "cell_type": "code",
   "execution_count": 196,
   "id": "977f579b-f4a7-48eb-80a3-8bdd66421672",
   "metadata": {},
   "outputs": [
    {
     "name": "stdout",
     "output_type": "stream",
     "text": [
      "friends_s04e23d_aaUt.json\n",
      "1 segments for s04e23: \n",
      "friends_s04e23d_aaUt.json\n"
     ]
    }
   ],
   "source": [
    "# Final sanity checks: load episode w theme song (before edits)\n",
    "s = \"4\"\n",
    "e = \"23\"\n",
    "jf = show_transcripts(s, e, verbose=False)\n",
    "print(f\"{len(jf)} segments for s0{s}e{e}: \")  \n",
    "#assert len(jf) == 1\n",
    "\n",
    "# For an episode, flag each transcript that has the theme song in it (typically transcript a)\n",
    "t = 0\n",
    "out_path = jf[t][0]\n",
    "td = jf[t][1]\n",
    "len_seg_1, len_seg_2 = jf[t][2]\n",
    "print(os.path.basename(out_path))\n",
    "\n",
    "# load edited transcript for comparison\n",
    "e_td = prep_aa(out_path.replace('.json', '_ed.json'))\n"
   ]
  },
  {
   "cell_type": "code",
   "execution_count": 197,
   "id": "17aaca01-b625-422b-8c9c-22fc35b20851",
   "metadata": {},
   "outputs": [
    {
     "name": "stdout",
     "output_type": "stream",
     "text": [
      "Well, I've never done that with you before. Nope. So how are you? You okay? Yep. Yep. You? Oh, yes, yes. Uh huh. You. We did you. Well, I better get going. Oh, yeah, absolutely. Could you not look? I don't want to look. Hello? Hey. Where the hell have you been? Hey. I spent the night out. I met this cute bridesmaid. She is so. I. I don't want to hear about her. Aw, Pheeves, you know you're still my number one girl. No, no. We have an emergency. Okay. Rachel's coming to London. Oh, great. Well, it's not great. No, she's coming to tell Ross that she loves him. But he loves Emily. I know that. You have to stop her. She's gonna ruin the wedding. Okay. All right. So. Okay, hold on, hold on. Rachel Cummings, do something. Okay, so then I've done my part. Okay? It's your responsibility now. The burden is off me, right? Right. So tell me about this girl. And so then I realized all the stuff that I had been doing. Proposing to Joshua, lying to Ross about why I couldn't come to the wedding was all just a way of. Oh, oh, oh, oh. I'm sorry, can I interrupt here? I just want to say that you are a horrible, horrible person. Pardon me? You say you love this man and yet you're about to ruin the happiest day of his life. I'm afraid I have to agree with your friend. This is a terrible, terrible plan. But he has to know how I feel. But why? He loves this. This Emily person. No good can come of this. Well, I think you're wrong. Oh, no. Well, he doesn't really love her. I mean, it's just a rebound thing from me. You'll see. Fortunately, I won't. By the. It seems to be perfectly clear that you were on a break. Do something. Something. Hey. Hey. Have you seen Monica? I'm not seeing Monica. Bu. What? What? Look, we. We gotta find her. Phoebe just called. Rachel's coming to tell Ross she loves him. Oh, my God. I know. That's why we gotta find Monica. Do you know where she is? No. Okay, what's with the third degree? Why don't you shine a light in my eyes? Oh, my God. It's like a fairyland. I know. It's horrible, isn't it? Well, I love it. I only hope my wedding looks this good. I just hope you can let some of them go by. Psst. Rick. All right, we really need to start looking out for Rachel. I'll cover the front door. You watch that big hole at the Back of the building. And I got Chandler covering Ross. Why would I care where Chandler is? You know? You know, sometimes I don't even like Chandler. Okay, I do. I do. I do. Oh, yeah, you're right. It's the second one. Right? Hey, Joey. Hey, Felicity. I thought about you all day. Yeah? Talk New York to me again. Forget about it. How you doing? If there's nothing to discuss, we're not paying for your wine cellar. You have to meet me in the middle here. Hey, you keep pushing me on this, my foot's gonna meet the middle of your ass. What's going on? Nothing. Nothing. Everything's under control. You want a piece of me, sir? Is that what you're saying? Want a piece of me? Okay, that's it. Parents. Parents. Back away, all right? This is our wedding day. From now on, everyone gets along. And if I hear one more word, no grandchildren. That's right. Okay, okay. Sorry, old boy. Sorry. Sorry. I could kill you with my thumb, you know. What was all that about? It was this disagreement or. My God, You. You look beautiful. Oh. Oh. You're not meant to see me before the wedding's bad luck. You know what? I think we've had all the bad luck. We're going to it. Thank God. Rachel, you're here. I can't believe it. What happened? Why are you here? Well, I just came. I just needed to tell you congratulations. It's. Hello, Waltham Interiors. Mrs. Waltham, hi, it's Phoebe again. Why? Yeah, can I please, please, please talk to one of the best men? This is gonna be the last time. I promise. Joey, there's a girl on the phone for you. Oh, great. Hello? Joey, it's Phoebe. Did you stop Rachel? No, but it's okay. She just came in and gave him a hug. That's it? Nothing got ruined? No. Oh, that's so great. Oh, so, what's going on now? I'm walking down the aisle. Still walking. I'm about to pass the bridesmaid I hooked up with last night. Hey, I just told her, hey. Okay, now I'm at the front with Ross. It's Phoebe. He looks pretty mad. I better go. No, wait, wait, wait. Oh, please hold. Hold it up so I can listen. What we did last night was stupid. Totally crazy stupid. What were we thinking? I'm coming over tonight though, right? Oh, yeah, Definitely. Friends, family are gathered to celebrate here today the joyous union of Ross and Emily. Be the happiness we share with them today. Be with them always. Now, Emily, repeat after me. I, Emily. I, Emily. Take thee, Ross. Take thee, Ross. As my lawfully wedded husband, in sickness and in health, till death parts us. As my lawfully wedded husband, in sickness and in health, until death parts us. Our Ross. Repeat after me. Ay. Ross. I, Ross, Take thee, Emily. Take thee, Rachel. Emily. Emily. Shall I go on? \n",
      "\n",
      "Well, I've never done that with you before. Nope. So how are you? You okay? Yep. Yep. You? Oh, yes, yes. Uh huh. You. We did you. Well, I better get going. Oh, yeah, absolutely. Could you not look? I don't want to look. Hello? Hey. Where the hell have you been? Hey. I spent the night out. I met this cute bridesmaid. She is so. I. I don't want to hear about her. Aw, Pheeves, you know you're still my number one girl. No, no. We have an emergency. Okay. Rachel's coming to London. Oh, great. Well, it's not great. No, she's coming to tell Ross that she loves him. But he loves Emily. I know that. You have to stop her. She's gonna ruin the wedding. Okay. All right. So. Okay, hold on, hold on. Rachel Cummings, do something. Okay, so then I've done my part. Okay? It's your responsibility now. The burden is off me, right? Right. So tell me about this girl. And so then I realized all the stuff that I had been doing. Proposing to Joshua, lying to Ross about why I couldn't come to the wedding was all just a way of. Oh, oh, oh, oh. I'm sorry, can I interrupt here? I just want to say that you are a horrible, horrible person. Pardon me? You say you love this man and yet you're about to ruin the happiest day of his life. I'm afraid I have to agree with your friend. This is a terrible, terrible plan. But he has to know how I feel. But why? He loves this. This Emily person. No good can come of this. Well, I think you're wrong. Oh, no. Well, he doesn't really love her. I mean, it's just a rebound thing from me. You'll see. Fortunately, I won't. By the. It seems to be perfectly clear that you were on a break. Do something. Something. Hey. Hey. Have you seen Monica? I'm not seeing Monica. Bu. What? What? Look, we. We gotta find her. Phoebe just called. Rachel's coming to tell Ross she loves him. Oh, my God. I know. That's why we gotta find Monica. Do you know where she is? No. Okay, what's with the third degree? Why don't you shine a light in my eyes? Oh, my God. It's like a fairyland. I know. It's horrible, isn't it? Well, I love it. I only hope my wedding looks this good. I just hope you can let some of them go by. Psst. Rick. All right, we really need to start looking out for Rachel. I'll cover the front door. You watch that big hole at the Back of the building. And I got Chandler covering Ross. Why would I care where Chandler is? You know? You know, sometimes I don't even like Chandler. Okay, I do. I do. I do. Oh, yeah, you're right. It's the second one. Right? Hey, Joey. Hey, Felicity. I thought about you all day. Yeah? Talk New York to me again. Forget about it. How you doing? If there's nothing to discuss, we're not paying for your wine cellar. You have to meet me in the middle here. Hey, you keep pushing me on this, my foot's gonna meet the middle of your ass. What's going on? Nothing. Nothing. Everything's under control. You want a piece of me, sir? Is that what you're saying? Want a piece of me? Okay, that's it. Parents. Parents. Back away, all right? This is our wedding day. From now on, everyone gets along. And if I hear one more word, no grandchildren. That's right. Okay, okay. Sorry, old boy. Sorry. Sorry. I could kill you with my thumb, you know. What was all that about? It was this disagreement or. My God, You. You look beautiful. Oh. Oh. You're not meant to see me before the wedding's bad luck. You know what? I think we've had all the bad luck. We're going to it. Thank God. Rachel, you're here. I can't believe it. What happened? Why are you here? Well, I just came. I just needed to tell you congratulations. It's. Hello, Waltham Interiors. Mrs. Waltham, hi, it's Phoebe again. Why? Yeah, can I please, please, please talk to one of the best men? This is gonna be the last time. I promise. Joey, there's a girl on the phone for you. Oh, great. Hello? Joey, it's Phoebe. Did you stop Rachel? No, but it's okay. She just came in and gave him a hug. That's it? Nothing got ruined? No. Oh, that's so great. Oh, so, what's going on now? I'm walking down the aisle. Still walking. I'm about to pass the bridesmaid I hooked up with last night. Hey, I just told her, hey. Okay, now I'm at the front with Ross. It's Phoebe. He looks pretty mad. I better go. No, wait, wait, wait. Oh, please hold. Hold it up so I can listen. What we did last night was stupid. Totally crazy stupid. What were we thinking? I'm coming over tonight though, right? Oh, yeah, Definitely. Friends, family are gathered to celebrate here today the joyous union of Ross and Emily. Be the happiness we share with them today. Be with them always. Now, Emily, repeat after me. I, Emily. I, Emily. Take thee, Ross. Take thee, Ross. As my lawfully wedded husband, in sickness and in health, till death parts us. As my lawfully wedded husband, in sickness and in health, until death parts us. Our Ross. Repeat after me. Ay. Ross. I, Ross, Take thee, Emily. Take thee, Rachel. Emily. Emily. Shall I go on? \n",
      " \n",
      "\n",
      " No one told you life was gonna be this way. Your job's a joke. You broke your love. Life's the old way. It's like you're always stuck in second gear. When it hasn't been your day, week, month. I'll be there for you. I'll be there for you. Mother. Mother. Peter. Peter. Take one. Oh, the band's ready. Well, we gotta do what the band says. I don't care about the stupid band. Well, it's getting late. Here we go. Actually, you guys would mind staying here with me for a while. You know, we gotta get up early and catch that plane to New York. Yeah, it's a very large plane. Why? What's the matter? Sa. \n",
      "\n",
      " Mother. Mother. Peter. Peter. Take one. Oh, the band's ready. Well, we gotta do what the band says. I don't care about the stupid band. Well, it's getting late. Here we go. Actually, you guys would mind staying here with me for a while. You know, we gotta get up early and catch that plane to New York. Yeah, it's a very large plane. Why? What's the matter? Sa. \n",
      " \n",
      "\n"
     ]
    }
   ],
   "source": [
    "# Compare raw transcript segments\n",
    "\n",
    "\"\"\"\n",
    "print(f\"{td['transcript'][:len_seg_1]} \\n\")\n",
    "print(f\"{e_td['transcript'][:len_seg_1]} \\n \\n\")\n",
    "\n",
    "print(f\"{td['transcript'][len_seg_1:]} \\n\")\n",
    "print(f\"{e_td['transcript'][len_seg_1:]} \\n \\n\")\n",
    "\n",
    "\"\"\"\n",
    "print(f\"{td['transcript'][:len(seg_1)]} \\n\")\n",
    "print(f\"{e_td['transcript'][:len(seg_1)]} \\n \\n\")\n",
    "\n",
    "print(f\"{td['transcript'][len(seg_1):]} \\n\")\n",
    "print(f\"{e_td['transcript'][len(seg_1):]} \\n \\n\")\n",
    "\n"
   ]
  },
  {
   "cell_type": "code",
   "execution_count": 198,
   "id": "4271e33b-7a21-4b40-b256-6a257026b330",
   "metadata": {
    "scrolled": true
   },
   "outputs": [
    {
     "name": "stdout",
     "output_type": "stream",
     "text": [
      "(942, 'no')\n",
      "(943, 'one')\n",
      "(944, 'told')\n",
      "(945, 'you')\n",
      "(946, 'life')\n",
      "(947, 'was')\n",
      "(948, 'gonna')\n",
      "(949, 'be')\n",
      "(950, 'this')\n",
      "(951, 'way')\n",
      "(952, 'your')\n",
      "(953, 'jobs')\n",
      "(954, 'a')\n",
      "(955, 'joke')\n",
      "(956, 'you')\n",
      "(957, 'broke')\n",
      "(958, 'your')\n",
      "(959, 'love')\n",
      "(960, 'lifes')\n",
      "(961, 'the')\n",
      "(962, 'old')\n",
      "(963, 'way')\n",
      "(964, 'its')\n",
      "(965, 'like')\n",
      "(966, 'youre')\n",
      "(967, 'always')\n",
      "(968, 'stuck')\n",
      "(969, 'in')\n",
      "(970, 'second')\n",
      "(971, 'gear')\n",
      "(972, 'when')\n",
      "(973, 'it')\n",
      "(974, 'hasnt')\n",
      "(975, 'been')\n",
      "(976, 'your')\n",
      "(977, 'day')\n",
      "(978, 'week')\n",
      "(979, 'month')\n",
      "(980, 'ill')\n",
      "(981, 'be')\n",
      "(982, 'there')\n",
      "(983, 'for')\n",
      "(984, 'you')\n",
      "(985, 'ill')\n",
      "(986, 'be')\n",
      "(987, 'there')\n",
      "(988, 'for')\n",
      "(989, 'you')\n"
     ]
    }
   ],
   "source": [
    "# Check words\n",
    "skip_words = {\"comic\", \"comet\", \"kiss\", \"pa\", \"mus\"}#, \"weebs\", \"brock\", \"where\", \"taylor\", \"shanine\", \"oil\"}\n",
    "clean_string = str.maketrans('', '', string.punctuation + string.whitespace)\n",
    "\n",
    "i_0 = 0\n",
    "i_n = len(td[\"words\"])\n",
    "j = 0\n",
    "j_n = len(e_td[\"words\"])\n",
    "\n",
    "unmatched_words = []\n",
    "for i in range(i_n-i_0):\n",
    "    td_w = td[\"words\"][i+i_0][\"word\"].lower().translate(clean_string)\n",
    "    if j < j_n:\n",
    "        etd_w = e_td[\"words\"][j][\"word\"].lower().translate(clean_string)\n",
    "        if td_w != etd_w and td_w not in skip_words:\n",
    "            unmatched_words.append((i+i_0, td_w))\n",
    "        else: \n",
    "            j += 1\n",
    "\n",
    "for i in range(len(unmatched_words)):\n",
    "    print(unmatched_words[i])"
   ]
  },
  {
   "cell_type": "code",
   "execution_count": 199,
   "id": "85c4155f-c838-41f5-acd9-6ec2ba67c575",
   "metadata": {
    "scrolled": true
   },
   "outputs": [
    {
     "name": "stdout",
     "output_type": "stream",
     "text": [
      "Emily.\n",
      "Shall\n",
      "I\n",
      "go\n",
      "on?\n",
      "No\n",
      "one\n",
      "told\n",
      "you\n",
      "life\n",
      "was\n",
      "gonna\n",
      "be\n",
      "this\n",
      "way.\n",
      "Your\n",
      "job's\n",
      "a\n",
      "joke.\n",
      "You\n",
      "broke\n",
      "your\n",
      "love.\n",
      "Life's\n",
      "the\n",
      "old\n",
      "way.\n",
      "It's\n",
      "like\n",
      "you're\n",
      "always\n",
      "stuck\n",
      "in\n",
      "second\n",
      "gear.\n",
      "When\n",
      "it\n",
      "hasn't\n",
      "been\n",
      "your\n",
      "day,\n",
      "week,\n",
      "month.\n",
      "I'll\n",
      "be\n",
      "there\n",
      "for\n",
      "you.\n",
      "I'll\n",
      "be\n",
      "there\n",
      "for\n",
      "you.\n",
      "Mother.\n",
      "Mother.\n",
      "Peter.\n",
      "Peter.\n",
      "Take\n"
     ]
    }
   ],
   "source": [
    "start_k = unmatched_words[0][0] - 5\n",
    "end_k = unmatched_words[-1][0] + 6\n",
    "for k in range(start_k, end_k):\n",
    "    print(td[\"words\"][k][\"word\"])"
   ]
  },
  {
   "cell_type": "code",
   "execution_count": null,
   "id": "b39b4218-4285-431a-8f15-e5db7e46e7af",
   "metadata": {},
   "outputs": [],
   "source": [
    "#print(td[\"words\"][290:295])"
   ]
  },
  {
   "cell_type": "code",
   "execution_count": 200,
   "id": "16bc4c68-0a83-4830-b2e8-9a84c1790aa6",
   "metadata": {
    "scrolled": true
   },
   "outputs": [
    {
     "name": "stdout",
     "output_type": "stream",
     "text": [
      "(211, 'no one told you life was gonna be this way')\n",
      "(212, 'your jobs a joke')\n",
      "(213, 'you broke your love')\n",
      "(214, 'lifes the old way')\n",
      "(215, 'its like youre always stuck in second gear')\n",
      "(216, 'when it hasnt been your day week month')\n",
      "(217, 'ill be there for you')\n",
      "(218, 'ill be there for you')\n"
     ]
    }
   ],
   "source": [
    "# Check sentences\n",
    "\n",
    "\n",
    "# Check words\n",
    "skip_sentences = {\n",
    "    \"ross whens this comic thing start\", \"ross whens this comet thing start\",\n",
    "    \"youre in a great place in your life\", \"so that guy there straight or gay\",\n",
    "    \"but ill be there for the wedding is so close\", \"there are no words\",\n",
    "    \"hello\", \"mrs brock\", \"where are you\", \"come on weebs\",\n",
    "    \"its like youre always st why are we in bed together\",\n",
    "    \"so is shanine around\", \"taylor come on\", \"look in ross defense okay no one told you life was gonna be this way\",\n",
    "    \"if it says boil 2 cups of salt you just oil 2 cups of salt\",\n",
    "    \"its like youre always stuck in second gear when it hasnt been your day a week a month weve been your year but ill be there for you cause youre there for me too hi\",\n",
    "    \"hi\", \"cuz youre there for you too monica\", \"if sure\", 'my office finally got wrinkle free fax pa',\n",
    "    'he thought you said go ned', 'goodbye mus', 'hes the one doing your',\n",
    "    'when it hasnt been your day week month weve been your year be there for you ill be there for you like ive been there before ill be there for you we still need a tip',\n",
    "    \"im\"\n",
    "}\n",
    "clean_string = str.maketrans('', '', string.punctuation)\n",
    "\n",
    "i_0 = 0\n",
    "i_n = len(td[\"sentences\"])\n",
    "j = 0\n",
    "j_n = len(e_td[\"sentences\"])\n",
    "\n",
    "unmatched_sentences = []\n",
    "for i in range(i_n-i_0):\n",
    "    td_s = td[\"sentences\"][i+i_0][\"text\"].lower().translate(clean_string)\n",
    "    if j < j_n:\n",
    "        etd_s = e_td[\"sentences\"][j][\"text\"].lower().translate(clean_string)\n",
    "        if td_s != etd_s and td_s not in skip_sentences:\n",
    "            unmatched_sentences.append((i+i_0, td_s))\n",
    "        else: \n",
    "            j += 1\n",
    "\n",
    "for i in range(len(unmatched_sentences)):\n",
    "    print(unmatched_sentences[i])"
   ]
  },
  {
   "cell_type": "code",
   "execution_count": 201,
   "id": "adb336fe-b97e-4a6f-b16b-b00dd3318895",
   "metadata": {
    "scrolled": true
   },
   "outputs": [
    {
     "name": "stdout",
     "output_type": "stream",
     "text": [
      "Emily.\n",
      "Shall I go on?\n",
      "No one told you life was gonna be this way.\n",
      "Your job's a joke.\n",
      "You broke your love.\n",
      "Life's the old way.\n",
      "It's like you're always stuck in second gear.\n",
      "When it hasn't been your day, week, month.\n",
      "I'll be there for you.\n",
      "I'll be there for you.\n",
      "Mother.\n",
      "Mother.\n"
     ]
    }
   ],
   "source": [
    "start_k = unmatched_sentences[0][0] - 2\n",
    "end_k = unmatched_sentences[-1][0] + 3\n",
    "for k in range(start_k, end_k):\n",
    "    print(td[\"sentences\"][k][\"text\"])"
   ]
  },
  {
   "cell_type": "code",
   "execution_count": null,
   "id": "bb1e9412-e380-40c2-8f84-8436a87799c8",
   "metadata": {},
   "outputs": [],
   "source": []
  },
  {
   "cell_type": "code",
   "execution_count": null,
   "id": "adac2d31-f5f3-4f9b-9f6f-7a52e1a04fe6",
   "metadata": {},
   "outputs": [],
   "source": []
  },
  {
   "cell_type": "code",
   "execution_count": 202,
   "id": "6271fa39-7516-4323-9003-1ac9f2a9aaca",
   "metadata": {
    "scrolled": true
   },
   "outputs": [
    {
     "name": "stdout",
     "output_type": "stream",
     "text": [
      "Emily.\n",
      "Shall\n",
      "I\n",
      "go\n",
      "on?\n",
      "Mother.\n",
      "Mother.\n",
      "Peter.\n",
      "Peter.\n",
      "Take\n",
      "one.\n",
      "Oh,\n",
      "the\n",
      "band's\n",
      "ready.\n",
      "Well,\n",
      "we\n",
      "gotta\n",
      "do\n",
      "what\n",
      "the\n",
      "band\n",
      "says.\n",
      "I\n",
      "don't\n",
      "care\n",
      "about\n",
      "the\n",
      "stupid\n",
      "band.\n",
      "Well,\n",
      "it's\n",
      "getting\n",
      "late.\n",
      "Here\n",
      "we\n",
      "go.\n",
      "Actually,\n",
      "you\n",
      "guys\n",
      "would\n",
      "mind\n",
      "staying\n",
      "here\n",
      "with\n",
      "me\n",
      "for\n",
      "a\n",
      "while.\n",
      "You\n",
      "know,\n",
      "we\n",
      "gotta\n",
      "get\n",
      "up\n",
      "early\n",
      "and\n",
      "catch\n"
     ]
    }
   ],
   "source": [
    "start_k = unmatched_words[0][0] - 5\n",
    "end_k = unmatched_words[-1][0] + 6\n",
    "for k in range(start_k, end_k):\n",
    "    print(e_td[\"words\"][k][\"word\"])"
   ]
  },
  {
   "cell_type": "code",
   "execution_count": 203,
   "id": "a4ccca9e-4d7b-474a-9988-ad8ecc9b8c36",
   "metadata": {},
   "outputs": [
    {
     "name": "stdout",
     "output_type": "stream",
     "text": [
      "Emily.\n",
      "Shall I go on?\n",
      "Mother.\n",
      "Mother.\n",
      "Peter.\n",
      "Peter.\n",
      "Take one.\n",
      "Oh, the band's ready.\n",
      "Well, we gotta do what the band says.\n",
      "I don't care about the stupid band.\n",
      "Well, it's getting late.\n",
      "Here we go.\n"
     ]
    }
   ],
   "source": [
    "start_k = unmatched_sentences[0][0] - 2\n",
    "end_k = unmatched_sentences[-1][0] + 3\n",
    "for k in range(start_k, end_k):\n",
    "    print(e_td[\"sentences\"][k][\"text\"])"
   ]
  },
  {
   "cell_type": "code",
   "execution_count": null,
   "id": "23477585-3497-484c-bb98-f1c6fc7685ed",
   "metadata": {},
   "outputs": [],
   "source": []
  }
 ],
 "metadata": {
  "kernelspec": {
   "display_name": "Python 3 (ipykernel)",
   "language": "python",
   "name": "python3"
  },
  "language_info": {
   "codemirror_mode": {
    "name": "ipython",
    "version": 3
   },
   "file_extension": ".py",
   "mimetype": "text/x-python",
   "name": "python",
   "nbconvert_exporter": "python",
   "pygments_lexer": "ipython3",
   "version": "3.10.12"
  }
 },
 "nbformat": 4,
 "nbformat_minor": 5
}
